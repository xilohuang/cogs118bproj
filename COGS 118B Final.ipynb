{
 "cells": [
  {
   "cell_type": "code",
   "execution_count": 1,
   "metadata": {},
   "outputs": [],
   "source": [
    "import numpy as np\n",
    "import pandas as pd\n",
    "import copy\n",
    "import time\n",
    "from numpy import array\n",
    "import matplotlib.pyplot as plt\n",
    "import warnings\n",
    "import joblib\n",
    "import statistics\n",
    "import random\n",
    "from openTSNE import TSNE\n",
    "from sklearn.cluster import KMeans\n",
    "import math\n",
    "warnings.filterwarnings(\"ignore\")"
   ]
  },
  {
   "cell_type": "markdown",
   "metadata": {},
   "source": [
    "## Data Process"
   ]
  },
  {
   "cell_type": "code",
   "execution_count": 2,
   "metadata": {},
   "outputs": [],
   "source": [
    "# Load the data\n",
    "df_raw = pd.read_csv('Medicalpremium.csv')"
   ]
  },
  {
   "cell_type": "code",
   "execution_count": 3,
   "metadata": {},
   "outputs": [
    {
     "data": {
      "text/html": [
       "<div>\n",
       "<style scoped>\n",
       "    .dataframe tbody tr th:only-of-type {\n",
       "        vertical-align: middle;\n",
       "    }\n",
       "\n",
       "    .dataframe tbody tr th {\n",
       "        vertical-align: top;\n",
       "    }\n",
       "\n",
       "    .dataframe thead th {\n",
       "        text-align: right;\n",
       "    }\n",
       "</style>\n",
       "<table border=\"1\" class=\"dataframe\">\n",
       "  <thead>\n",
       "    <tr style=\"text-align: right;\">\n",
       "      <th></th>\n",
       "      <th>Age</th>\n",
       "      <th>Diabetes</th>\n",
       "      <th>BloodPressureProblems</th>\n",
       "      <th>AnyTransplants</th>\n",
       "      <th>AnyChronicDiseases</th>\n",
       "      <th>Height</th>\n",
       "      <th>Weight</th>\n",
       "      <th>KnownAllergies</th>\n",
       "      <th>HistoryOfCancerInFamily</th>\n",
       "      <th>NumberOfMajorSurgeries</th>\n",
       "      <th>PremiumPrice</th>\n",
       "    </tr>\n",
       "  </thead>\n",
       "  <tbody>\n",
       "    <tr>\n",
       "      <th>0</th>\n",
       "      <td>45</td>\n",
       "      <td>0</td>\n",
       "      <td>0</td>\n",
       "      <td>0</td>\n",
       "      <td>0</td>\n",
       "      <td>155</td>\n",
       "      <td>57</td>\n",
       "      <td>0</td>\n",
       "      <td>0</td>\n",
       "      <td>0</td>\n",
       "      <td>25000</td>\n",
       "    </tr>\n",
       "    <tr>\n",
       "      <th>1</th>\n",
       "      <td>60</td>\n",
       "      <td>1</td>\n",
       "      <td>0</td>\n",
       "      <td>0</td>\n",
       "      <td>0</td>\n",
       "      <td>180</td>\n",
       "      <td>73</td>\n",
       "      <td>0</td>\n",
       "      <td>0</td>\n",
       "      <td>0</td>\n",
       "      <td>29000</td>\n",
       "    </tr>\n",
       "    <tr>\n",
       "      <th>2</th>\n",
       "      <td>36</td>\n",
       "      <td>1</td>\n",
       "      <td>1</td>\n",
       "      <td>0</td>\n",
       "      <td>0</td>\n",
       "      <td>158</td>\n",
       "      <td>59</td>\n",
       "      <td>0</td>\n",
       "      <td>0</td>\n",
       "      <td>1</td>\n",
       "      <td>23000</td>\n",
       "    </tr>\n",
       "    <tr>\n",
       "      <th>3</th>\n",
       "      <td>52</td>\n",
       "      <td>1</td>\n",
       "      <td>1</td>\n",
       "      <td>0</td>\n",
       "      <td>1</td>\n",
       "      <td>183</td>\n",
       "      <td>93</td>\n",
       "      <td>0</td>\n",
       "      <td>0</td>\n",
       "      <td>2</td>\n",
       "      <td>28000</td>\n",
       "    </tr>\n",
       "    <tr>\n",
       "      <th>4</th>\n",
       "      <td>38</td>\n",
       "      <td>0</td>\n",
       "      <td>0</td>\n",
       "      <td>0</td>\n",
       "      <td>1</td>\n",
       "      <td>166</td>\n",
       "      <td>88</td>\n",
       "      <td>0</td>\n",
       "      <td>0</td>\n",
       "      <td>1</td>\n",
       "      <td>23000</td>\n",
       "    </tr>\n",
       "    <tr>\n",
       "      <th>...</th>\n",
       "      <td>...</td>\n",
       "      <td>...</td>\n",
       "      <td>...</td>\n",
       "      <td>...</td>\n",
       "      <td>...</td>\n",
       "      <td>...</td>\n",
       "      <td>...</td>\n",
       "      <td>...</td>\n",
       "      <td>...</td>\n",
       "      <td>...</td>\n",
       "      <td>...</td>\n",
       "    </tr>\n",
       "    <tr>\n",
       "      <th>981</th>\n",
       "      <td>18</td>\n",
       "      <td>0</td>\n",
       "      <td>0</td>\n",
       "      <td>0</td>\n",
       "      <td>0</td>\n",
       "      <td>169</td>\n",
       "      <td>67</td>\n",
       "      <td>0</td>\n",
       "      <td>0</td>\n",
       "      <td>0</td>\n",
       "      <td>15000</td>\n",
       "    </tr>\n",
       "    <tr>\n",
       "      <th>982</th>\n",
       "      <td>64</td>\n",
       "      <td>1</td>\n",
       "      <td>1</td>\n",
       "      <td>0</td>\n",
       "      <td>0</td>\n",
       "      <td>153</td>\n",
       "      <td>70</td>\n",
       "      <td>0</td>\n",
       "      <td>0</td>\n",
       "      <td>3</td>\n",
       "      <td>28000</td>\n",
       "    </tr>\n",
       "    <tr>\n",
       "      <th>983</th>\n",
       "      <td>56</td>\n",
       "      <td>0</td>\n",
       "      <td>1</td>\n",
       "      <td>0</td>\n",
       "      <td>0</td>\n",
       "      <td>155</td>\n",
       "      <td>71</td>\n",
       "      <td>0</td>\n",
       "      <td>0</td>\n",
       "      <td>1</td>\n",
       "      <td>29000</td>\n",
       "    </tr>\n",
       "    <tr>\n",
       "      <th>984</th>\n",
       "      <td>47</td>\n",
       "      <td>1</td>\n",
       "      <td>1</td>\n",
       "      <td>0</td>\n",
       "      <td>0</td>\n",
       "      <td>158</td>\n",
       "      <td>73</td>\n",
       "      <td>1</td>\n",
       "      <td>0</td>\n",
       "      <td>1</td>\n",
       "      <td>39000</td>\n",
       "    </tr>\n",
       "    <tr>\n",
       "      <th>985</th>\n",
       "      <td>21</td>\n",
       "      <td>0</td>\n",
       "      <td>0</td>\n",
       "      <td>0</td>\n",
       "      <td>0</td>\n",
       "      <td>158</td>\n",
       "      <td>75</td>\n",
       "      <td>1</td>\n",
       "      <td>0</td>\n",
       "      <td>1</td>\n",
       "      <td>15000</td>\n",
       "    </tr>\n",
       "  </tbody>\n",
       "</table>\n",
       "<p>986 rows × 11 columns</p>\n",
       "</div>"
      ],
      "text/plain": [
       "     Age  Diabetes  BloodPressureProblems  AnyTransplants  AnyChronicDiseases  \\\n",
       "0     45         0                      0               0                   0   \n",
       "1     60         1                      0               0                   0   \n",
       "2     36         1                      1               0                   0   \n",
       "3     52         1                      1               0                   1   \n",
       "4     38         0                      0               0                   1   \n",
       "..   ...       ...                    ...             ...                 ...   \n",
       "981   18         0                      0               0                   0   \n",
       "982   64         1                      1               0                   0   \n",
       "983   56         0                      1               0                   0   \n",
       "984   47         1                      1               0                   0   \n",
       "985   21         0                      0               0                   0   \n",
       "\n",
       "     Height  Weight  KnownAllergies  HistoryOfCancerInFamily  \\\n",
       "0       155      57               0                        0   \n",
       "1       180      73               0                        0   \n",
       "2       158      59               0                        0   \n",
       "3       183      93               0                        0   \n",
       "4       166      88               0                        0   \n",
       "..      ...     ...             ...                      ...   \n",
       "981     169      67               0                        0   \n",
       "982     153      70               0                        0   \n",
       "983     155      71               0                        0   \n",
       "984     158      73               1                        0   \n",
       "985     158      75               1                        0   \n",
       "\n",
       "     NumberOfMajorSurgeries  PremiumPrice  \n",
       "0                         0         25000  \n",
       "1                         0         29000  \n",
       "2                         1         23000  \n",
       "3                         2         28000  \n",
       "4                         1         23000  \n",
       "..                      ...           ...  \n",
       "981                       0         15000  \n",
       "982                       3         28000  \n",
       "983                       1         29000  \n",
       "984                       1         39000  \n",
       "985                       1         15000  \n",
       "\n",
       "[986 rows x 11 columns]"
      ]
     },
     "execution_count": 3,
     "metadata": {},
     "output_type": "execute_result"
    }
   ],
   "source": [
    "df_raw"
   ]
  },
  {
   "cell_type": "code",
   "execution_count": 4,
   "metadata": {},
   "outputs": [],
   "source": [
    "# Seperate X and y\n",
    "def separate_Xy(data):\n",
    "    \n",
    "    X_names = data.columns.values.tolist()\n",
    "    X_names.remove('PremiumPrice')\n",
    "    X = data[X_names]\n",
    "    y = data['PremiumPrice']\n",
    "    \n",
    "    return X, y"
   ]
  },
  {
   "cell_type": "code",
   "execution_count": 5,
   "metadata": {},
   "outputs": [],
   "source": [
    "\"\"\"\n",
    "Code modified based on openTSNE examples\n",
    "original author: @ pavlin-policar\n",
    "\"\"\"\n",
    "def plot(\n",
    "    x,\n",
    "    y,\n",
    "    ax=None,\n",
    "    title=None,\n",
    "    draw_legend=True,\n",
    "    draw_centers=False,\n",
    "    draw_cluster_labels=False,\n",
    "    colors=None,\n",
    "    legend_kwargs=None,\n",
    "    label_order=None,\n",
    "    **kwargs\n",
    "):\n",
    "    import matplotlib\n",
    "    import matplotlib.pyplot\n",
    "\n",
    "    if ax is None:\n",
    "        _, ax = matplotlib.pyplot.subplots(figsize=(8, 8))\n",
    "\n",
    "    if title is not None:\n",
    "        ax.set_title(title)\n",
    "\n",
    "    plot_params = {\"alpha\": kwargs.get(\"alpha\", 0.6), \"s\": kwargs.get(\"s\", 1)}\n",
    "\n",
    "    # Create main plot\n",
    "    if label_order is not None:\n",
    "        assert all(np.isin(np.unique(y), label_order))\n",
    "        classes = [l for l in label_order if l in np.unique(y)]\n",
    "    else:\n",
    "        classes = np.unique(y)\n",
    "    if colors is None:\n",
    "        default_colors = matplotlib.rcParams[\"axes.prop_cycle\"]\n",
    "        colors = {k: v[\"color\"] for k, v in zip(classes, default_colors())}\n",
    "\n",
    "    point_colors = list(map(colors.get, y))\n",
    "\n",
    "    ax.scatter(x[:, 0], x[:, 1], c=point_colors, rasterized=True, **plot_params)\n",
    "\n",
    "    # Plot mediods\n",
    "    if draw_centers:\n",
    "        centers = []\n",
    "        for yi in classes:\n",
    "            mask = yi == y\n",
    "            centers.append(np.median(x[mask, :2], axis=0))\n",
    "        centers = np.array(centers)\n",
    "\n",
    "        center_colors = list(map(colors.get, classes))\n",
    "        ax.scatter(\n",
    "            centers[:, 0], centers[:, 1], c=center_colors, s=12, alpha=1, edgecolor=\"k\"\n",
    "        )\n",
    "\n",
    "        # Draw mediod labels\n",
    "        if draw_cluster_labels:\n",
    "            for idx, label in enumerate(classes):\n",
    "                ax.text(\n",
    "                    centers[idx, 0],\n",
    "                    centers[idx, 1] + 2.2,\n",
    "                    label,\n",
    "                    fontsize=kwargs.get(\"fontsize\", 6),\n",
    "                    horizontalalignment=\"center\",\n",
    "                )\n",
    "\n",
    "    # Hide ticks and axis\n",
    "    ax.set_xticks([]), ax.set_yticks([]), ax.axis(\"off\")\n",
    "\n",
    "    if draw_legend:\n",
    "        legend_handles = [\n",
    "            matplotlib.lines.Line2D(\n",
    "                [],\n",
    "                [],\n",
    "                marker=\"s\",\n",
    "                color=\"w\",\n",
    "                markerfacecolor=colors[yi],\n",
    "                ms=10,\n",
    "                alpha=1,\n",
    "                linewidth=0,\n",
    "                label=yi,\n",
    "                markeredgecolor=\"k\",\n",
    "            )\n",
    "            for yi in classes\n",
    "        ]\n",
    "        legend_kwargs_ = dict(loc=\"center left\", bbox_to_anchor=(1, 0.5), frameon=False, )\n",
    "        if legend_kwargs is not None:\n",
    "            legend_kwargs_.update(legend_kwargs)\n",
    "        ax.legend(handles=legend_handles, **legend_kwargs_)"
   ]
  },
  {
   "cell_type": "code",
   "execution_count": 6,
   "metadata": {},
   "outputs": [
    {
     "data": {
      "image/png": "[encoded data removed]",
      "text/plain": [
       "<Figure size 432x288 with 1 Axes>"
      ]
     },
     "metadata": {
      "needs_background": "light"
     },
     "output_type": "display_data"
    }
   ],
   "source": [
    "# Show the distribution of the dataset\n",
    "X, y = separate_Xy(df_raw)\n",
    "ax = plt.subplot()\n",
    "plt.hist(y, color='steelblue')\n",
    "plt.show()"
   ]
  },
  {
   "cell_type": "markdown",
   "metadata": {},
   "source": [
    "From the distribution map, we guess that the data may be naturally clustered into three piles, and the insurance premiums for different segments may be calculated in different ways. In order to verify the initial guess, we decided to use an unsupervised clustering method to visualize the data dimensionality reduction. The TSNE algorithm initialized with PCA is selected for dimensionality reduction. This is because simply reducing PCA to 2 dimensions may lose too much information, that is, the number of important principal components is greater than 2. The pseudo-labels generated by K-means clustering are used to evaluate the effect of clustering to adjust hyperparameters. The entire training process does not involve labels, and labels are only used in the final visualization."
   ]
  },
  {
   "cell_type": "code",
   "execution_count": 7,
   "metadata": {},
   "outputs": [],
   "source": [
    "# Seperate y into 3 groups\n",
    "def separate_y(y):\n",
    "    y_n = copy.deepcopy(y)\n",
    "    for i in range(len(y)):\n",
    "        if y[i] < 20000:\n",
    "            y_n[i] = '< 20000'\n",
    "        elif (y[i] >= 20000) and (y[i] < 32500):\n",
    "            y_n[i] = '20000 to 32500'\n",
    "        else:\n",
    "            y_n[i] = '> 32500'\n",
    "    return y_n"
   ]
  },
  {
   "cell_type": "code",
   "execution_count": 8,
   "metadata": {},
   "outputs": [],
   "source": [
    "best_score = float('-inf')\n",
    "best_embedding = None\n",
    "best_perplexity = 0\n",
    "y_n = separate_y(y)"
   ]
  },
  {
   "cell_type": "code",
   "execution_count": 9,
   "metadata": {},
   "outputs": [
    {
     "ename": "KeyboardInterrupt",
     "evalue": "",
     "output_type": "error",
     "traceback": [
      "\u001b[1;31m---------------------------------------------------------------------------\u001b[0m",
      "\u001b[1;31mKeyboardInterrupt\u001b[0m                         Traceback (most recent call last)",
      "\u001b[1;32m<__array_function__ internals>\u001b[0m in \u001b[0;36mwhere\u001b[1;34m(*args, **kwargs)\u001b[0m\n",
      "\u001b[1;31mKeyboardInterrupt\u001b[0m: "
     ]
    },
    {
     "name": "stderr",
     "output_type": "stream",
     "text": [
      "Exception ignored in: 'sklearn.cluster._k_means_fast._relocate_empty_clusters_dense'\n",
      "Traceback (most recent call last):\n",
      "  File \"<__array_function__ internals>\", line 2, in where\n",
      "KeyboardInterrupt: \n"
     ]
    }
   ],
   "source": [
    "for i in range(100, 160):\n",
    "    tsne = TSNE(n_components=3, perplexity=i, early_exaggeration_iter=500, early_exaggeration=12, n_iter=1000, \\\n",
    "                    initialization='pca', metric='euclidean', n_jobs=-1, neighbors='auto', random_state=200, verbose=False)\n",
    "    embedding = tsne.fit(X)\n",
    "    kmeans = KMeans(n_clusters=3, random_state=42).fit(embedding)\n",
    "    score = kmeans.score(embedding)\n",
    "    if score > best_score:\n",
    "        best_score = copy.deepcopy(score)\n",
    "        best_embedding = copy.deepcopy(embedding)\n",
    "        best_perplexity = copy.deepcopy(i)"
   ]
  },
  {
   "cell_type": "code",
   "execution_count": 17,
   "metadata": {},
   "outputs": [
    {
     "data": {
      "image/png": "[encoded data removed]",
      "text/plain": [
       "<Figure size 576x576 with 1 Axes>"
      ]
     },
     "metadata": {},
     "output_type": "display_data"
    }
   ],
   "source": [
    "plot(best_embedding, y_n, title='perplexity: '+str(best_perplexity))"
   ]
  },
  {
   "cell_type": "markdown",
   "metadata": {},
   "source": [
    "The result of clustering does not completely meet our hypothesis. Low insurance premiums (<20000) can be distinguished relatively easily, but there is no obvious distinction between medium and high insurance premiums. In order to further verify the previous ideas, we decided to compare the accuracy of the single regression model and the classification-regression model. The latter means to classify the data first, and then use regression models for low insurance premiums/high insurance premiums based on the results of classification predictions."
   ]
  },
  {
   "cell_type": "markdown",
   "metadata": {},
   "source": [
    "## Training Models"
   ]
  },
  {
   "cell_type": "code",
   "execution_count": 11,
   "metadata": {},
   "outputs": [],
   "source": [
    "from sklearn.metrics import make_scorer\n",
    "from sklearn.metrics import accuracy_score, balanced_accuracy_score, f1_score\n",
    "from sklearn.ensemble import RandomForestClassifier\n",
    "import matplotlib.pyplot as plt\n",
    "from sklearn.model_selection import train_test_split, cross_validate, cross_val_score, cross_val_predict, GridSearchCV\n",
    "from sklearn.discriminant_analysis import LinearDiscriminantAnalysis\n",
    "from sklearn.svm import LinearSVC\n",
    "from sklearn.neighbors import KNeighborsClassifier\n",
    "from sklearn.linear_model import LogisticRegression\n",
    "from sklearn.neighbors import RadiusNeighborsClassifier\n",
    "from sklearn.metrics import confusion_matrix\n",
    "from sklearn.decomposition import KernelPCA\n",
    "from sklearn.pipeline import Pipeline\n",
    "from sklearn.utils import resample\n",
    "from sklearn import preprocessing\n",
    "from sklearn.model_selection import train_test_split\n",
    "from sklearn.ensemble import RandomForestRegressor\n",
    "from sklearn.datasets import make_regression\n",
    "from sklearn.metrics import classification_report\n",
    "from sklearn.linear_model import LinearRegression\n",
    "from sklearn.preprocessing import PolynomialFeatures\n",
    "from sklearn.cluster import KMeans"
   ]
  },
  {
   "cell_type": "markdown",
   "metadata": {},
   "source": [
    "## Applying linear regression\n",
    "First we try to apply linear regression on the whole group of data"
   ]
  },
  {
   "cell_type": "code",
   "execution_count": 24,
   "metadata": {},
   "outputs": [
    {
     "name": "stdout",
     "output_type": "stream",
     "text": [
      "The training accuracy of linear regression model is: 0.65\n",
      "The testing accuracy of linear regression model is: 0.61\n"
     ]
    }
   ],
   "source": [
    "df_regression_X, df_regression_Y = separate_Xy(df_raw)\n",
    "Re_train_X, Re_test_X, Re_train_Y, Re_test_Y = train_test_split(df_regression_X, df_regression_Y, test_size = 0.2, random_state = 200)\n",
    "reg = LinearRegression().fit(Re_train_X, Re_train_Y)\n",
    "print('The training score of linear regression model is: ' + str(format(reg.score(Re_train_X, Re_train_Y), '.3g')))\n",
    "print('The testing score of linear regression model is: ' + str(format(reg.score(Re_test_X, Re_test_Y), '.3g')))"
   ]
  },
  {
   "cell_type": "markdown",
   "metadata": {},
   "source": [
    "Obviously, linear regression is not a good model for predicting a person's insurance premium."
   ]
  },
  {
   "cell_type": "markdown",
   "metadata": {},
   "source": [
    "## Applying random forest regression "
   ]
  },
  {
   "cell_type": "code",
   "execution_count": 269,
   "metadata": {},
   "outputs": [],
   "source": [
    "df_regression_X = df_raw.iloc[:,0:10]\n",
    "df_regression_Y = df_raw.iloc[:,10:11]\n",
    "Re_train_X, Re_test_X, Re_train_Y, Re_test_Y = train_test_split(df_regression_X, df_regression_Y, test_size = 0.3, random_state = 200)\n",
    "regr = RandomForestRegressor(n_jobs = -1)\n",
    "regr.fit(Re_train_X, Re_train_Y)\n",
    "Re_train_predict = regr.predict(Re_train_X)\n",
    "Re_train_predict = np.array(Re_train_predict)\n",
    "Re_train_predict = Re_train_predict.reshape((690,1)).astype(int)"
   ]
  },
  {
   "cell_type": "code",
   "execution_count": 270,
   "metadata": {},
   "outputs": [
    {
     "data": {
      "text/plain": [
       "0.9678041560056123"
      ]
     },
     "execution_count": 270,
     "metadata": {},
     "output_type": "execute_result"
    }
   ],
   "source": [
    "regr.score(Re_train_X,Re_train_Y, sample_weight=None)"
   ]
  },
  {
   "cell_type": "code",
   "execution_count": 271,
   "metadata": {},
   "outputs": [
    {
     "data": {
      "text/plain": [
       "0.8207314064727796"
      ]
     },
     "execution_count": 271,
     "metadata": {},
     "output_type": "execute_result"
    }
   ],
   "source": [
    "regr.score(Re_test_X,Re_test_Y, sample_weight=None)"
   ]
  },
  {
   "cell_type": "markdown",
   "metadata": {},
   "source": [
    "We decied to use random forest regression for our final regression method based on its best proformance on raw data"
   ]
  },
  {
   "cell_type": "markdown",
   "metadata": {},
   "source": [
    "## Applying polynomial regression"
   ]
  },
  {
   "cell_type": "code",
   "execution_count": null,
   "metadata": {},
   "outputs": [],
   "source": [
    "df_regression_X = df_raw.iloc[:,0:10]\n",
    "df_regression_Y = df_raw.iloc[:,10:11]\n",
    "Re_train_X, Re_test_X, Re_train_Y, Re_test_Y = train_test_split(df_regression_X, df_regression_Y, test_size = 0.2, random_state = 200)\n",
    "poly = PolynomialFeatures(degree = 3)\n",
    "poly_x = poly.fit_transform(Re_train_X)\n",
    "poly_test_x = poly.fit_transform(Re_test_X)\n",
    "lin_reg2 = LinearRegression()\n",
    "lin_reg2.fit(poly_x, Re_train_Y)"
   ]
  },
  {
   "cell_type": "code",
   "execution_count": null,
   "metadata": {},
   "outputs": [],
   "source": [
    "lin_reg2.score(poly_x, Re_train_Y)"
   ]
  },
  {
   "cell_type": "code",
   "execution_count": null,
   "metadata": {},
   "outputs": [],
   "source": [
    "lin_reg2.score(poly_test_x, Re_test_Y)"
   ]
  },
  {
   "cell_type": "markdown",
   "metadata": {},
   "source": [
    "# Clustering with our inital assumption about data"
   ]
  },
  {
   "cell_type": "code",
   "execution_count": null,
   "metadata": {},
   "outputs": [],
   "source": [
    "# first randomly pick 80% of data and divide into >20000 and <=20000 group\n",
    "# then calculate group mean with normalization and train two decision trees\n",
    "# apply the algorithm to the test group"
   ]
  },
  {
   "cell_type": "code",
   "execution_count": null,
   "metadata": {},
   "outputs": [],
   "source": [
    "Clu_train, Clu_test = train_test_split(df_raw, test_size = 0.2, random_state = 200)\n",
    "Clu_train1 = Clu_train[Clu_train['PremiumPrice'] > 20000]\n",
    "Clu_train2 = Clu_train[Clu_train['PremiumPrice'] <= 20000]\n",
    "Clu_train1_X = Clu_train1.iloc[:,0:10]\n",
    "Clu_train1_Y = Clu_train1.iloc[:,10:11]\n",
    "Clu_train2_X = Clu_train2.iloc[:,0:10]\n",
    "Clu_train2_Y = Clu_train2.iloc[:,10:11]\n",
    "Clu_train1_X_norm = preprocessing.normalize(Clu_train1_X, axis = 0)\n",
    "Clu_train2_X_norm = preprocessing.normalize(Clu_train2_X, axis = 0)\n",
    "regr1 = RandomForestRegressor(n_jobs = -1)\n",
    "regr1.fit(Clu_train1_X_norm, Clu_train1_Y)\n",
    "regr2 = RandomForestRegressor(n_jobs = -1)\n",
    "regr2.fit(Clu_train2_X_norm, Clu_train2_Y)\n",
    "Mean1 = Clu_train1_X_norm.mean(axis = 0)\n",
    "Mean2 = Clu_train2_X_norm.mean(axis = 0)"
   ]
  },
  {
   "cell_type": "code",
   "execution_count": null,
   "metadata": {},
   "outputs": [],
   "source": [
    "regr1.score(Clu_train1_X_norm, Clu_train1_Y , sample_weight=None)"
   ]
  },
  {
   "cell_type": "code",
   "execution_count": null,
   "metadata": {},
   "outputs": [],
   "source": [
    "Clu_test_X_norm = preprocessing.normalize(Clu_test.iloc[:,0:10], axis = 0)"
   ]
  },
  {
   "cell_type": "code",
   "execution_count": null,
   "metadata": {},
   "outputs": [],
   "source": [
    "rep1 = np.repeat(Mean1, 198, axis = 0).reshape(10,198).T"
   ]
  },
  {
   "cell_type": "code",
   "execution_count": null,
   "metadata": {},
   "outputs": [],
   "source": [
    "rep2 = np.repeat(Mean2, 198, axis = 0).reshape(10,198).T"
   ]
  },
  {
   "cell_type": "code",
   "execution_count": null,
   "metadata": {},
   "outputs": [],
   "source": [
    "distance1 = []\n",
    "distance2 = []\n",
    "for i in range(len(Clu_test_X_norm)):\n",
    "    distance1.append(math.dist(Clu_test_X_norm[i], Mean1))\n",
    "    distance2.append(math.dist(Clu_test_X_norm[i], Mean2))"
   ]
  },
  {
   "cell_type": "code",
   "execution_count": null,
   "metadata": {},
   "outputs": [],
   "source": [
    "cluster1 = []\n",
    "cluster2 = []\n",
    "for i in range(len(Clu_test_X_norm)):\n",
    "    if distance1[i] > distance2[i]:\n",
    "        cluster2.append(Clu_test_X_norm[i])\n",
    "    else:\n",
    "        cluster1.append(Clu_test_X_norm[i])"
   ]
  },
  {
   "cell_type": "code",
   "execution_count": null,
   "metadata": {},
   "outputs": [],
   "source": [
    "len(cluster1)"
   ]
  },
  {
   "cell_type": "code",
   "execution_count": null,
   "metadata": {},
   "outputs": [],
   "source": [
    "len(cluster2)"
   ]
  },
  {
   "cell_type": "markdown",
   "metadata": {},
   "source": [
    "## Classification-regression model"
   ]
  },
  {
   "cell_type": "code",
   "execution_count": 25,
   "metadata": {},
   "outputs": [],
   "source": [
    "def bin_sep_y(y):\n",
    "    y_n = copy.deepcopy(y)\n",
    "    for i in range(len(y)):\n",
    "        if y[i] < 20000:\n",
    "            y_n[i] = '< 20000'\n",
    "        else:\n",
    "            y_n[i] = '> 20000'\n",
    "    return y_n"
   ]
  },
  {
   "cell_type": "code",
   "execution_count": 31,
   "metadata": {},
   "outputs": [],
   "source": [
    "X, y = separate_Xy(df_raw)\n",
    "clf_y = bin_sep_y(y)\n",
    "train_X, test_X, train_y, test_y = train_test_split(X, clf_y, test_size=0.2, random_state=200)"
   ]
  },
  {
   "cell_type": "code",
   "execution_count": 28,
   "metadata": {},
   "outputs": [],
   "source": [
    "clf = RandomForestClassifier(random_state=200, oob_score=True)\n",
    "param_grid = {'min_samples_split':[0.0001, 0.001, 0.01], 'min_samples_leaf':list(range(1, 10))}\n",
    "scoring = {'balanced_accuracy': make_scorer(balanced_accuracy_score)}\n",
    "grid_search = GridSearchCV(clf, param_grid, n_jobs=-1, scoring=scoring, refit='balanced_accuracy', return_train_score=False)\n",
    "grid_search.fit(train_X, train_y)\n",
    "clf_model=grid_search.best_estimator_"
   ]
  },
  {
   "cell_type": "code",
   "execution_count": 30,
   "metadata": {},
   "outputs": [
    {
     "name": "stdout",
     "output_type": "stream",
     "text": [
      "The training accuracy of linear regression model is: 0.984\n",
      "The testing accuracy of linear regression model is: 0.975\n"
     ]
    }
   ],
   "source": [
    "print('The training accuracy of linear regression model is: ' + str(format(clf_model.score(train_X, train_y), '.3g')))\n",
    "print('The testing accuracy of linear regression model is: ' + str(format(clf_model.score(test_X, test_y), '.3g')))"
   ]
  },
  {
   "cell_type": "markdown",
   "metadata": {},
   "source": [
    "As we assumed, the classifier can distinguish low insurance premiums (<20000) from high insurance premiums. Therefore, we then try to train different regressors on the classified two sets of data."
   ]
  },
  {
   "cell_type": "code",
   "execution_count": 93,
   "metadata": {},
   "outputs": [],
   "source": [
    "# <20000\n",
    "df_low = df_raw[df_raw['PremiumPrice'] < 20000]\n",
    "X, y = separate_Xy(df_low)\n",
    "Re_train_X, Re_test_X, Re_train_Y, Re_test_Y = train_test_split(X, y, test_size=0.2, random_state=200)"
   ]
  },
  {
   "cell_type": "code",
   "execution_count": 94,
   "metadata": {},
   "outputs": [
    {
     "name": "stdout",
     "output_type": "stream",
     "text": [
      "The training accuracy of linear regression model is: 0.991\n",
      "The testing accuracy of linear regression model is: -0.267\n"
     ]
    }
   ],
   "source": [
    "regr = RandomForestRegressor(random_state=200, n_jobs=-1)\n",
    "regr.fit(Re_train_X, Re_train_Y)\n",
    "print('The training accuracy of linear regression model is: ' + str(format(regr.score(Re_train_X, Re_train_Y), '.3g')))\n",
    "print('The testing accuracy of linear regression model is: ' + str(format(regr.score(Re_test_X, Re_test_Y), '.3g')))"
   ]
  },
  {
   "cell_type": "code",
   "execution_count": 95,
   "metadata": {},
   "outputs": [],
   "source": [
    "# >20000\n",
    "df_high = df_raw[df_raw['PremiumPrice'] >= 20000]\n",
    "X, y = separate_Xy(df_high)\n",
    "Re_train_X, Re_test_X, Re_train_Y, Re_test_Y = train_test_split(X, y, test_size=0.2, random_state=200)"
   ]
  },
  {
   "cell_type": "code",
   "execution_count": 96,
   "metadata": {},
   "outputs": [
    {
     "name": "stdout",
     "output_type": "stream",
     "text": [
      "The training accuracy of linear regression model is: 0.961\n",
      "The testing accuracy of linear regression model is: 0.766\n"
     ]
    }
   ],
   "source": [
    "regr = RandomForestRegressor(random_state=200, n_jobs=-1)\n",
    "regr.fit(Re_train_X, Re_train_Y)\n",
    "print('The training accuracy of linear regression model is: ' + str(format(regr.score(Re_train_X, Re_train_Y), '.3g')))\n",
    "print('The testing accuracy of linear regression model is: ' + str(format(regr.score(Re_test_X, Re_test_Y), '.3g')))"
   ]
  },
  {
   "cell_type": "markdown",
   "metadata": {},
   "source": [
    "# K-Means clustering "
   ]
  },
  {
   "cell_type": "code",
   "execution_count": 286,
   "metadata": {},
   "outputs": [
    {
     "data": {
      "text/plain": [
       "0.7934626939604212"
      ]
     },
     "execution_count": 286,
     "metadata": {},
     "output_type": "execute_result"
    }
   ],
   "source": [
    "Kmeans_train, Kmeans_test = train_test_split(df_raw, test_size = 0.3, random_state = 200)\n",
    "Kmeans_train_X = Kmeans_train.iloc[:,0:10]\n",
    "Kmeans_test_X = Kmeans_test.iloc[:,0:10]\n",
    "Kmeans_test_X_norm = pd.DataFrame(preprocessing.normalize(Kmeans_test_X, axis = 0))\n",
    "Kmeans_train_X_norm = pd.DataFrame(preprocessing.normalize(Kmeans_train_X, axis = 0))\n",
    "kmeans = KMeans(n_clusters = 2).fit(Kmeans_train_X_norm)\n",
    "Kmeans_train_X_norm['Label'] = kmeans.labels_\n",
    "Clu_0 = []\n",
    "Clu_1 = []\n",
    "y_0 = []\n",
    "y_1 = []\n",
    "for i in range(690):\n",
    "    if Kmeans_train_X_norm['Label'][i] == 0:\n",
    "        Clu_0.append(pd.DataFrame(Kmeans_train_X).to_numpy()[i,0:10])\n",
    "        y_0.append(pd.DataFrame(Kmeans_train).to_numpy()[i,10:11])\n",
    "    if Kmeans_train_X_norm['Label'][i] == 1:\n",
    "        Clu_1.append(pd.DataFrame(Kmeans_train_X).to_numpy()[i,0:10])\n",
    "        y_1.append(pd.DataFrame(Kmeans_train).to_numpy()[i,10:11])\n",
    "regr0 = RandomForestRegressor(n_jobs = -1)\n",
    "regr0.fit(Clu_0, y_0)\n",
    "regr1 = RandomForestRegressor(n_jobs = -1)\n",
    "regr1.fit(Clu_1, y_1)\n",
    "Kmeans_test_X_norm['Label']  = kmeans.predict(Kmeans_test_X_norm)\n",
    "Clu_0 = []\n",
    "Clu_1 = []\n",
    "y_0 = []\n",
    "y_1 = []\n",
    "for i in range(296):\n",
    "    if Kmeans_test_X_norm['Label'][i] == 0:\n",
    "        Clu_0.append(pd.DataFrame(Kmeans_test_X).to_numpy()[i,0:10])\n",
    "        y_0.append(pd.DataFrame(Kmeans_test).to_numpy()[i,10:11])\n",
    "    if Kmeans_test_X_norm['Label'][i] == 1:\n",
    "        Clu_1.append(pd.DataFrame(Kmeans_test_X).to_numpy()[i,0:10])\n",
    "        y_1.append(pd.DataFrame(Kmeans_test).to_numpy()[i,10:11])\n",
    "regr0.score(Clu_0,y_0)"
   ]
  },
  {
   "cell_type": "code",
   "execution_count": 287,
   "metadata": {},
   "outputs": [
    {
     "data": {
      "text/plain": [
       "0.9567272328985363"
      ]
     },
     "execution_count": 287,
     "metadata": {},
     "output_type": "execute_result"
    }
   ],
   "source": [
    "regr1.score(Clu_1,y_1)"
   ]
  },
  {
   "cell_type": "code",
   "execution_count": 288,
   "metadata": {},
   "outputs": [
    {
     "data": {
      "text/plain": [
       "0.8000815266200746"
      ]
     },
     "execution_count": 288,
     "metadata": {},
     "output_type": "execute_result"
    }
   ],
   "source": [
    "(regr0.score(Clu_0,y_0)*len(y_0)+regr1.score(Clu_1,y_1)*len(y_1))/296"
   ]
  },
  {
   "cell_type": "code",
   "execution_count": 289,
   "metadata": {},
   "outputs": [
    {
     "data": {
      "text/plain": [
       "284"
      ]
     },
     "execution_count": 289,
     "metadata": {},
     "output_type": "execute_result"
    }
   ],
   "source": [
    "len(y_0)"
   ]
  },
  {
   "cell_type": "code",
   "execution_count": 290,
   "metadata": {},
   "outputs": [
    {
     "data": {
      "text/plain": [
       "12"
      ]
     },
     "execution_count": 290,
     "metadata": {},
     "output_type": "execute_result"
    }
   ],
   "source": [
    "len(y_1)"
   ]
  },
  {
   "cell_type": "code",
   "execution_count": 292,
   "metadata": {},
   "outputs": [
    {
     "data": {
      "text/plain": [
       "0.9708139150227617"
      ]
     },
     "execution_count": 292,
     "metadata": {},
     "output_type": "execute_result"
    }
   ],
   "source": [
    "Kmeans_train, Kmeans_test = train_test_split(df_raw, test_size = 0.2, random_state = 200)\n",
    "Kmeans_train_X = Kmeans_train.iloc[:,0:10]\n",
    "Kmeans_test_X = Kmeans_test.iloc[:,0:10]\n",
    "Kmeans_test_X_norm = pd.DataFrame(preprocessing.normalize(Kmeans_test_X, axis = 0))\n",
    "Kmeans_train_X_norm = pd.DataFrame(preprocessing.normalize(Kmeans_train_X, axis = 0))\n",
    "kmeans = KMeans(n_clusters = 2).fit(Kmeans_train_X_norm)\n",
    "Kmeans_train_X_norm['Label'] = kmeans.labels_\n",
    "Clu_0 = []\n",
    "Clu_1 = []\n",
    "y_0 = []\n",
    "y_1 = []\n",
    "for i in range(788):\n",
    "    if Kmeans_train_X_norm['Label'][i] == 0:\n",
    "        Clu_0.append(pd.DataFrame(Kmeans_train_X).to_numpy()[i,0:10])\n",
    "        y_0.append(pd.DataFrame(Kmeans_train).to_numpy()[i,10:11])\n",
    "    if Kmeans_train_X_norm['Label'][i] == 1:\n",
    "        Clu_1.append(pd.DataFrame(Kmeans_train_X).to_numpy()[i,0:10])\n",
    "        y_1.append(pd.DataFrame(Kmeans_train).to_numpy()[i,10:11])\n",
    "regr0 = RandomForestRegressor(n_jobs = -1)\n",
    "regr0.fit(Clu_0, y_0)\n",
    "regr1 = RandomForestRegressor(n_jobs = -1)\n",
    "regr1.fit(Clu_1, y_1)\n",
    "Kmeans_test_X_norm['Label']  = kmeans.predict(Kmeans_test_X_norm)\n",
    "Clu_0 = []\n",
    "Clu_1 = []\n",
    "y_0 = []\n",
    "y_1 = []\n",
    "for i in range(198):\n",
    "    if Kmeans_test_X_norm['Label'][i] == 0:\n",
    "        Clu_0.append(pd.DataFrame(Kmeans_test_X).to_numpy()[i,0:10])\n",
    "        y_0.append(pd.DataFrame(Kmeans_test).to_numpy()[i,10:11])\n",
    "    if Kmeans_test_X_norm['Label'][i] == 1:\n",
    "        Clu_1.append(pd.DataFrame(Kmeans_test_X).to_numpy()[i,0:10])\n",
    "        y_1.append(pd.DataFrame(Kmeans_test).to_numpy()[i,10:11])\n",
    "regr0.score(Clu_0,y_0)"
   ]
  },
  {
   "cell_type": "code",
   "execution_count": 293,
   "metadata": {},
   "outputs": [
    {
     "data": {
      "text/plain": [
       "0.7517390269620744"
      ]
     },
     "execution_count": 293,
     "metadata": {},
     "output_type": "execute_result"
    }
   ],
   "source": [
    "regr1.score(Clu_1,y_1)"
   ]
  },
  {
   "cell_type": "code",
   "execution_count": 294,
   "metadata": {},
   "outputs": [
    {
     "data": {
      "text/plain": [
       "0.7616969764193784"
      ]
     },
     "execution_count": 294,
     "metadata": {},
     "output_type": "execute_result"
    }
   ],
   "source": [
    "(regr0.score(Clu_0,y_0)*len(y_0)+regr1.score(Clu_1,y_1)*len(y_1))/198"
   ]
  }
 ],
 "metadata": {
  "kernelspec": {
   "display_name": "Python 3",
   "language": "python",
   "name": "python3"
  },
  "language_info": {
   "codemirror_mode": {
    "name": "ipython",
    "version": 3
   },
   "file_extension": ".py",
   "mimetype": "text/x-python",
   "name": "python",
   "nbconvert_exporter": "python",
   "pygments_lexer": "ipython3",
   "version": "3.8.5"
  }
 },
 "nbformat": 4,
 "nbformat_minor": 5
}
